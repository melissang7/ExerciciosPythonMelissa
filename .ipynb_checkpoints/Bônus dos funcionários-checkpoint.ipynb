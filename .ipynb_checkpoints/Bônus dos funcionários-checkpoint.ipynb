{
 "cells": [
  {
   "cell_type": "code",
   "execution_count": 12,
   "id": "543f928b",
   "metadata": {},
   "outputs": [
    {
     "name": "stdout",
     "output_type": "stream",
     "text": [
      "O bonus do funcionario 1 é de R$ 100.0\n",
      "O bonus do funcionario 2 é de R$ 177.0\n",
      "O bonus do funcionario 3 é de R$ 405.0\n"
     ]
    }
   ],
   "source": [
    "#A meta é 1000 vendas\n",
    "#Agora, os funcionários que venderem muito acima da meta ganham mais bônus do que os outros. Então o bônus é definido da seguinte forma:\n",
    "\n",
    "#Se vendas funcionário for maior ou igual a 2000, então o bônus é de 15% sobre o valor de vendas\n",
    "#Se vendas funcionário for menor do que 2000 e maior ou igual a 1000, então o bônus é de 10% sobre o valor de vendas\n",
    "#Se vendas funcionário for menos do que 1000 então o bônus do funcionário é de 0.\n",
    "\n",
    "vendas_funcionario1 = 1000\n",
    "vendas_funcionario2 = 1770\n",
    "vendas_funcionario3 = 2700\n",
    "meta = 1000\n",
    "\n",
    "if vendas_funcionario1 >= meta:\n",
    "    if vendas_funcionario1 >= 2*meta:\n",
    "        bonus = vendas_funcionario1 *0.15\n",
    "    else: \n",
    "        bonus = vendas_funcionario1 *0.1\n",
    "else:\n",
    "    bonus = 0\n",
    "print(\"O bonus do funcionario 1 é de R$ {}\".format(bonus)) \n",
    "\n",
    "if vendas_funcionario2 >= meta:\n",
    "    if vendas_funcionario2 >= 2*meta:\n",
    "        bonus = vendas_funcionario2 *0.15\n",
    "    else: \n",
    "        bonus = vendas_funcionario2 *0.1\n",
    "else:\n",
    "    bonus = 0\n",
    "print(\"O bonus do funcionario 2 é de R$ {}\".format(bonus))\n",
    "\n",
    "if vendas_funcionario3 >= meta:\n",
    "    if vendas_funcionario3 >= 2*meta:\n",
    "        bonus = vendas_funcionario3 *0.15\n",
    "    else: \n",
    "        bonus = vendas_funcionario3 *0.1\n",
    "else:\n",
    "    bonus = 0\n",
    "print(\"O bonus do funcionario 3 é de R$ {}\".format(bonus))\n",
    "\n",
    "    \n",
    "    "
   ]
  },
  {
   "cell_type": "code",
   "execution_count": null,
   "id": "e0f2a63b",
   "metadata": {},
   "outputs": [],
   "source": []
  },
  {
   "cell_type": "code",
   "execution_count": null,
   "id": "097a196e",
   "metadata": {},
   "outputs": [],
   "source": []
  },
  {
   "cell_type": "code",
   "execution_count": null,
   "id": "cff6f3f5",
   "metadata": {},
   "outputs": [],
   "source": []
  }
 ],
 "metadata": {
  "kernelspec": {
   "display_name": "Python 3 (ipykernel)",
   "language": "python",
   "name": "python3"
  },
  "language_info": {
   "codemirror_mode": {
    "name": "ipython",
    "version": 3
   },
   "file_extension": ".py",
   "mimetype": "text/x-python",
   "name": "python",
   "nbconvert_exporter": "python",
   "pygments_lexer": "ipython3",
   "version": "3.9.7"
  }
 },
 "nbformat": 4,
 "nbformat_minor": 5
}
