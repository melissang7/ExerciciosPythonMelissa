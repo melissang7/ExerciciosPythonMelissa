{
 "cells": [
  {
   "cell_type": "code",
   "execution_count": null,
   "id": "598369aa",
   "metadata": {},
   "outputs": [],
   "source": [
    "CPF = input(\"Insira seu CPF (Digite apenas números)\")\n",
    "CPF = CPF.strip()\n",
    "CPF = CPF.replace(\".\",\"\")\n",
    "CPF = CPF.replace(\"-\",\"\")\n",
    "if len(CPF) == 11 and CPF.isnumeric():\n",
    "     print (\"CPF válido\")\n",
    "else:\n",
    "    print(\"CPF inválido! Digite corretamente seu CPF e digite apenas números\")"
   ]
  },
  {
   "cell_type": "code",
   "execution_count": null,
   "id": "a3fcce8b",
   "metadata": {},
   "outputs": [],
   "source": []
  }
 ],
 "metadata": {
  "kernelspec": {
   "display_name": "Python 3 (ipykernel)",
   "language": "python",
   "name": "python3"
  },
  "language_info": {
   "codemirror_mode": {
    "name": "ipython",
    "version": 3
   },
   "file_extension": ".py",
   "mimetype": "text/x-python",
   "name": "python",
   "nbconvert_exporter": "python",
   "pygments_lexer": "ipython3",
   "version": "3.9.7"
  }
 },
 "nbformat": 4,
 "nbformat_minor": 5
}
