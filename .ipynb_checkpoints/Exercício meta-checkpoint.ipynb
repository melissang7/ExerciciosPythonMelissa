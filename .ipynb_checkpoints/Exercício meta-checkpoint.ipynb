{
 "cells": [
  {
   "cell_type": "code",
   "execution_count": 2,
   "id": "df9d6415",
   "metadata": {},
   "outputs": [
    {
     "name": "stdout",
     "output_type": "stream",
     "text": [
      "O bonus do funcionario 1 foi 100.0 reais\n",
      "o bônus do funcionario 2 foi 277.0 reais\n",
      "não conseguiu o bonus\n"
     ]
    }
   ],
   "source": [
    "vendas_funcionario1 = 1000\n",
    "vendas_funcionario2 = 2770\n",
    "vendas_funcionario3 = 700\n",
    "meta = 1000\n",
    "\n",
    "\n",
    "if vendas_funcionario1 >= meta:\n",
    "    bonus = vendas_funcionario1*0.1\n",
    "    print(\"O bonus do funcionario 1 foi {} reais\".format(bonus))\n",
    "else:\n",
    "    print (\"não consegiu bonus\")\n",
    "    \n",
    "if vendas_funcionario2 >= meta:\n",
    "        bonus = vendas_funcionario2*0.1\n",
    "        print (\"o bônus do funcionario 2 foi {} reais\".format(bonus))\n",
    "else: \n",
    "    print(\"não conseguiu o bonus\")\n",
    "    \n",
    "if vendas_funcionario3 >= meta:\n",
    "        bonus = vendas_funcionario3*0.1\n",
    "        print(\"o bônus do funcionario 3 foi {} reais\".format(bonus))\n",
    "else:\n",
    "    print (\"não conseguiu o bonus\")\n",
    "    \n",
    "    \n",
    "    \n",
    " "
   ]
  },
  {
   "cell_type": "code",
   "execution_count": null,
   "id": "1984a1a9",
   "metadata": {},
   "outputs": [],
   "source": []
  }
 ],
 "metadata": {
  "kernelspec": {
   "display_name": "Python 3 (ipykernel)",
   "language": "python",
   "name": "python3"
  },
  "language_info": {
   "codemirror_mode": {
    "name": "ipython",
    "version": 3
   },
   "file_extension": ".py",
   "mimetype": "text/x-python",
   "name": "python",
   "nbconvert_exporter": "python",
   "pygments_lexer": "ipython3",
   "version": "3.9.7"
  }
 },
 "nbformat": 4,
 "nbformat_minor": 5
}
