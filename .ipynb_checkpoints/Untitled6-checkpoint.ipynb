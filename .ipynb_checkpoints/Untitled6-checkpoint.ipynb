{
 "cells": [
  {
   "cell_type": "code",
   "execution_count": 8,
   "id": "a7dea730",
   "metadata": {},
   "outputs": [
    {
     "name": "stdout",
     "output_type": "stream",
     "text": [
      "Apenas os vendedores João conseguiram bater a meta, vendeu: 305000 unidades\n",
      "Apenas os vendedores Ana conseguiram bater a meta, vendeu: 450000 unidades\n"
     ]
    }
   ],
   "source": [
    "meta = 250000\n",
    "vendas = [\n",
    "    ('João', 305000),\n",
    "    ('Julia', 27000),\n",
    "    ('Marcus', 9900),\n",
    "    ('Maria', 3750),\n",
    "    ('Ana', 450000),\n",
    "    ('Alon', 7870),\n",
    "]\n",
    "\n",
    "for vendedor, qtd in vendas:\n",
    "    if qtd>=meta:\n",
    "        print(\"Apenas os vendedores {} conseguiram bater a meta, vendeu: {} unidades\".format(vendedor,qtd))"
   ]
  }
 ],
 "metadata": {
  "kernelspec": {
   "display_name": "Python 3 (ipykernel)",
   "language": "python",
   "name": "python3"
  },
  "language_info": {
   "codemirror_mode": {
    "name": "ipython",
    "version": 3
   },
   "file_extension": ".py",
   "mimetype": "text/x-python",
   "name": "python",
   "nbconvert_exporter": "python",
   "pygments_lexer": "ipython3",
   "version": "3.9.7"
  }
 },
 "nbformat": 4,
 "nbformat_minor": 5
}
