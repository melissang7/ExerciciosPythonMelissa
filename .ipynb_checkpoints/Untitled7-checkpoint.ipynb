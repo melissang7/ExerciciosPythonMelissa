{
 "cells": [
  {
   "cell_type": "code",
   "execution_count": null,
   "id": "9f9d349e",
   "metadata": {},
   "outputs": [],
   "source": [
    "agenda={'João':96509428,'Ana':92761834,'Melissa':84309756,'Felipe':84526714,'Pedro':92345678}\n",
    "nome=input('Gigite o nome do contato desejado: ')\n",
    "print('O telefone de {} é {}'.format(nome,agenda[nome]))\n",
    "    \n",
    "\n",
    "#agenda=['Pedro']=93576259\n",
    "#print(agenda)"
   ]
  },
  {
   "cell_type": "code",
   "execution_count": null,
   "id": "4538fd8a",
   "metadata": {},
   "outputs": [],
   "source": []
  }
 ],
 "metadata": {
  "kernelspec": {
   "display_name": "Python 3 (ipykernel)",
   "language": "python",
   "name": "python3"
  },
  "language_info": {
   "codemirror_mode": {
    "name": "ipython",
    "version": 3
   },
   "file_extension": ".py",
   "mimetype": "text/x-python",
   "name": "python",
   "nbconvert_exporter": "python",
   "pygments_lexer": "ipython3",
   "version": "3.9.7"
  }
 },
 "nbformat": 4,
 "nbformat_minor": 5
}
