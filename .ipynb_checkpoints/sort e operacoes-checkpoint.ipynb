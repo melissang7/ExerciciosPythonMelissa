{
 "cells": [
  {
   "cell_type": "code",
   "execution_count": 3,
   "id": "529881b2",
   "metadata": {},
   "outputs": [
    {
     "name": "stdout",
     "output_type": "stream",
     "text": [
      "Ordem crescente\n",
      "[5, 15, 23, 26, 28, 30, 35, 40, 47, 60, 65, 78, 80, 100]\n"
     ]
    }
   ],
   "source": [
    "#Sort\n",
    "\n",
    "vendas = [100,30,80,40,60,15,35,28,65,78,5,23,47,26]\n",
    "vendas.sort()\n",
    "print('Ordem crescente')\n",
    "print(vendas)"
   ]
  },
  {
   "cell_type": "code",
   "execution_count": 13,
   "id": "8c61fc97",
   "metadata": {},
   "outputs": [
    {
     "name": "stdout",
     "output_type": "stream",
     "text": [
      "(12, 8, 20, 5.0, 100, 0)\n"
     ]
    }
   ],
   "source": [
    "#return\n",
    "\n",
    "def operacoes_basicas(n1,n2):\n",
    "    soma = n1+n2\n",
    "    diferenca = n1-n2\n",
    "    mult = n1*n2\n",
    "    div = n1/n2\n",
    "    expo = n1**n2\n",
    "    resto = n1%n2\n",
    "    return (soma, diferenca, mult, div, expo, resto)\n",
    "\n",
    "print(operacoes_basicas(10,2))"
   ]
  },
  {
   "cell_type": "code",
   "execution_count": null,
   "id": "e11c5e78",
   "metadata": {},
   "outputs": [],
   "source": []
  }
 ],
 "metadata": {
  "kernelspec": {
   "display_name": "Python 3 (ipykernel)",
   "language": "python",
   "name": "python3"
  },
  "language_info": {
   "codemirror_mode": {
    "name": "ipython",
    "version": 3
   },
   "file_extension": ".py",
   "mimetype": "text/x-python",
   "name": "python",
   "nbconvert_exporter": "python",
   "pygments_lexer": "ipython3",
   "version": "3.9.7"
  }
 },
 "nbformat": 4,
 "nbformat_minor": 5
}
