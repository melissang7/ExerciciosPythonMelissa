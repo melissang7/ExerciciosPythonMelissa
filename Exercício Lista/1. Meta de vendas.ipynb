{
 "cells": [
  {
   "cell_type": "code",
   "execution_count": 1,
   "id": "be52ceb0",
   "metadata": {},
   "outputs": [
    {
     "name": "stdout",
     "output_type": "stream",
     "text": [
      "Maria atingiu a meta! Vendeu: 941 produtos \n",
      "José atingiu a meta! Vendeu: 852 produtos \n",
      "Antônio atingiu a meta! Vendeu: 783 produtos \n",
      "João atingiu a meta! Vendeu: 714 produtos \n",
      "Francisco atingiu a meta! Vendeu: 697 produtos \n",
      "Ana atingiu a meta! Vendeu: 686 produtos \n",
      "Luiz atingiu a meta! Vendeu: 685 produtos \n",
      "Paulo atingiu a meta! Vendeu: 670 produtos \n",
      "Carlos atingiu a meta! Vendeu: 631 produtos \n",
      "Manoel atingiu a meta! Vendeu: 453 produtos \n",
      "Pedro atingiu a meta! Vendeu: 386 produtos \n",
      "Francisca atingiu a meta! Vendeu: 371 produtos \n",
      "Marcos atingiu a meta! Vendeu: 294 produtos \n",
      "Raimundo atingiu a meta! Vendeu: 269 produtos \n",
      "Sebastião atingiu a meta! Vendeu: 259 produtos \n",
      "Antônia atingiu a meta! Vendeu: 218 produtos \n",
      "Marcelo atingiu a meta! Vendeu: 208 produtos \n",
      "Jorge atingiu a meta! Vendeu: 163 produtos \n",
      "Márcia atingiu a meta! Vendeu: 125 produtos \n",
      "Geraldo atingiu a meta! Vendeu: 102 produtos \n"
     ]
    }
   ],
   "source": [
    "#1. Digamos que temos uma lista de vendedores e as quantidades vendidas e queremos\n",
    "#identificar todos os vendedores que bateram a meta igual a 100. Crie um programa\n",
    "#usando while e informe quem bateu a meta.\n",
    "\n",
    "\n",
    "vendas = [941, 852, 783, 714, 697, 686, 685, 670, 631, 453, 386, 371, 294, 269, 259, 218, 208, 163, 125, 102, 87, 47, 7]\n",
    "vendedores = ['Maria', 'José', 'Antônio', 'João', 'Francisco', 'Ana', 'Luiz', 'Paulo', 'Carlos', 'Manoel', 'Pedro', 'Francisca', \n",
    "              'Marcos','Raimundo', 'Sebastião', 'Antônia', 'Marcelo', 'Jorge', 'Márcia', 'Geraldo', 'Adriana', 'Sandra', 'Luis']\n",
    "\n",
    "meta = 100\n",
    "i=0\n",
    "\n",
    "while vendas[i]>meta:\n",
    "    print(\"{} atingiu a meta! Vendeu: {} produtos \".format(vendedores[i], vendas[i]))\n",
    "    i=i+1"
   ]
  },
  {
   "cell_type": "code",
   "execution_count": null,
   "id": "88a6f6f1",
   "metadata": {},
   "outputs": [],
   "source": []
  }
 ],
 "metadata": {
  "kernelspec": {
   "display_name": "Python 3 (ipykernel)",
   "language": "python",
   "name": "python3"
  },
  "language_info": {
   "codemirror_mode": {
    "name": "ipython",
    "version": 3
   },
   "file_extension": ".py",
   "mimetype": "text/x-python",
   "name": "python",
   "nbconvert_exporter": "python",
   "pygments_lexer": "ipython3",
   "version": "3.9.12"
  }
 },
 "nbformat": 4,
 "nbformat_minor": 5
}
