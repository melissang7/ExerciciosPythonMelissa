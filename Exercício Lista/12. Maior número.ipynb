{
 "cells": [
  {
   "cell_type": "code",
   "execution_count": null,
   "id": "b196dd83",
   "metadata": {},
   "outputs": [],
   "source": [
    "maior= -1\n",
    "i=1\n",
    "while i <=5:\n",
    "    num=int(input('Digite um número: '))\n",
    "    if num > maior:\n",
    "        maior = num\n",
    "    i += 1\n",
    "print('O maior número digitado é: {} '.format(maior))"
   ]
  },
  {
   "cell_type": "code",
   "execution_count": null,
   "id": "9ea9b23d",
   "metadata": {},
   "outputs": [],
   "source": []
  }
 ],
 "metadata": {
  "kernelspec": {
   "display_name": "Python 3 (ipykernel)",
   "language": "python",
   "name": "python3"
  },
  "language_info": {
   "codemirror_mode": {
    "name": "ipython",
    "version": 3
   },
   "file_extension": ".py",
   "mimetype": "text/x-python",
   "name": "python",
   "nbconvert_exporter": "python",
   "pygments_lexer": "ipython3",
   "version": "3.9.12"
  }
 },
 "nbformat": 4,
 "nbformat_minor": 5
}
