{
 "cells": [
  {
   "cell_type": "code",
   "execution_count": 2,
   "id": "983183b0",
   "metadata": {},
   "outputs": [
    {
     "name": "stdout",
     "output_type": "stream",
     "text": [
      "Insira um produto aqui. Para cancelar o registro de um novo produto, clique em Enter com a caixa vazia: Tv\n",
      "Insira um produto aqui. Para cancelar o registro de um novo produto, clique em Enter com a caixa vazia: Celular\n",
      "Insira um produto aqui. Para cancelar o registro de um novo produto, clique em Enter com a caixa vazia: Computador\n",
      "Insira um produto aqui. Para cancelar o registro de um novo produto, clique em Enter com a caixa vazia: Tablet\n",
      "Insira um produto aqui. Para cancelar o registro de um novo produto, clique em Enter com a caixa vazia: Fone de ouvido \n",
      "Insira um produto aqui. Para cancelar o registro de um novo produto, clique em Enter com a caixa vazia: \n",
      "Registro Finalizado. As vendas cadastradas foram: ['Tv', 'Celular', 'Computador', 'Tablet', 'Fone de ouvido ']\n"
     ]
    }
   ],
   "source": [
    "#2. Crie um programa que funcione como o registro de vendas de uma empresa.O\n",
    "#usuário deve inserir o nome do produto e o produto deve ser adicionado na lista de\n",
    "#venda. Enquanto o usuário não encerrar o programa, significa que ele está\n",
    "#registrando novos produtos, então o programa deve permitir e entrada de novos produtos.\n",
    "\n",
    "produto = input('Insira um produto aqui. Para cancelar o registro de um novo produto, clique em Enter com a caixa vazia: ')\n",
    "vendas = []\n",
    "\n",
    "while produto != '':\n",
    "    vendas.append(produto)\n",
    "    produto = input('Insira um produto aqui. Para cancelar o registro de um novo produto, clique em Enter com a caixa vazia: ')\n",
    "\n",
    "print('Registro Finalizado. As vendas cadastradas foram: {}'.format(vendas))\n"
   ]
  },
  {
   "cell_type": "code",
   "execution_count": null,
   "id": "f62d1cdb",
   "metadata": {},
   "outputs": [],
   "source": []
  }
 ],
 "metadata": {
  "kernelspec": {
   "display_name": "Python 3 (ipykernel)",
   "language": "python",
   "name": "python3"
  },
  "language_info": {
   "codemirror_mode": {
    "name": "ipython",
    "version": 3
   },
   "file_extension": ".py",
   "mimetype": "text/x-python",
   "name": "python",
   "nbconvert_exporter": "python",
   "pygments_lexer": "ipython3",
   "version": "3.9.12"
  }
 },
 "nbformat": 4,
 "nbformat_minor": 5
}
