{
 "cells": [
  {
   "cell_type": "code",
   "execution_count": 12,
   "id": "e7adf186",
   "metadata": {},
   "outputs": [
    {
     "name": "stdout",
     "output_type": "stream",
     "text": [
      "Tabuada do: 3\n",
      "---------------\n",
      "3 x  1 = 3\n",
      "3 x  2 = 6\n",
      "3 x  3 = 9\n",
      "3 x  4 = 12\n",
      "3 x  5 = 15\n",
      "3 x  6 = 18\n",
      "3 x  7 = 21\n",
      "3 x  8 = 24\n",
      "3 x  9 = 27\n",
      "3 x 10 = 30\n",
      "---------------\n"
     ]
    }
   ],
   "source": [
    "#4. Faça um programa em Python que leia um valor inteiro e mostre a tabuada de 1 a 10 do valor lido.\n",
    "\n",
    "num=int(input('Tabuada do: '))\n",
    "print('-'*15)\n",
    "for cont in range(1,11):\n",
    "        print('{} x {:2} = {}'.format(num,cont, num*cont))\n",
    "print('-'*15)"
   ]
  },
  {
   "cell_type": "code",
   "execution_count": null,
   "id": "526b3816",
   "metadata": {},
   "outputs": [],
   "source": []
  }
 ],
 "metadata": {
  "kernelspec": {
   "display_name": "Python 3 (ipykernel)",
   "language": "python",
   "name": "python3"
  },
  "language_info": {
   "codemirror_mode": {
    "name": "ipython",
    "version": 3
   },
   "file_extension": ".py",
   "mimetype": "text/x-python",
   "name": "python",
   "nbconvert_exporter": "python",
   "pygments_lexer": "ipython3",
   "version": "3.9.12"
  }
 },
 "nbformat": 4,
 "nbformat_minor": 5
}
