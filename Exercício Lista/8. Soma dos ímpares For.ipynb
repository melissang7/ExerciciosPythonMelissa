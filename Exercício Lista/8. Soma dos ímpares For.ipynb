{
 "cells": [
  {
   "cell_type": "code",
   "execution_count": 1,
   "id": "6b9afa00",
   "metadata": {},
   "outputs": [
    {
     "name": "stdout",
     "output_type": "stream",
     "text": [
      "A soma dos números ímpares é: 20667\n"
     ]
    }
   ],
   "source": [
    "#8. Faça um programa que calcule a soma entre todos os números ímpares de 0 até 500. Usando FOR.\n",
    "\n",
    "soma =0\n",
    "for num in range(1,501):\n",
    "    if num % 2 !=0:\n",
    "        if num %3 ==0:\n",
    "            soma = soma + num\n",
    "print('A soma dos números ímpares é: {}'.format(soma))"
   ]
  },
  {
   "cell_type": "code",
   "execution_count": null,
   "id": "f3740db0",
   "metadata": {},
   "outputs": [],
   "source": []
  }
 ],
 "metadata": {
  "kernelspec": {
   "display_name": "Python 3 (ipykernel)",
   "language": "python",
   "name": "python3"
  },
  "language_info": {
   "codemirror_mode": {
    "name": "ipython",
    "version": 3
   },
   "file_extension": ".py",
   "mimetype": "text/x-python",
   "name": "python",
   "nbconvert_exporter": "python",
   "pygments_lexer": "ipython3",
   "version": "3.9.12"
  }
 },
 "nbformat": 4,
 "nbformat_minor": 5
}
