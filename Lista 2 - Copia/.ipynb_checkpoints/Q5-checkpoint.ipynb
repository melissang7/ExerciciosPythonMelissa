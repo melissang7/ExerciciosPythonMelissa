{
 "cells": [
  {
   "cell_type": "code",
   "execution_count": 26,
   "id": "fa09f548",
   "metadata": {},
   "outputs": [
    {
     "name": "stdout",
     "output_type": "stream",
     "text": [
      "Telefonou para a vítima?não\n",
      "Esteve no local do crime?não\n",
      "Mora perto da vítima?sim\n",
      "Devia para a vítima?não\n",
      "Já trabalhou com a vítima?sim\n",
      "Suspeito (a)\n"
     ]
    }
   ],
   "source": [
    "#Utilizando listas faça um programa que faça 5 perguntas para uma pessoa sobre um crime. As perguntas são:\n",
    "#a) \"Telefonou para a vítima?\"\n",
    "#b) \"Esteve no local do crime?\"\n",
    "#c) \"Mora perto da vítima?\"\n",
    "#d) \"Devia para a vítima?\"\n",
    "#e) \"Já trabalhou com a vítima?\"\n",
    "#O programa deve no final emitir uma classificação sobre a participação da\n",
    "#pessoa no crime. Se a pessoa responder positivamente a 2 questões ela\n",
    "#deve ser classificada como \"Suspeita\", entre 3 e 4 como \"Cúmplice\" e 5\n",
    "#como \"Assassino\". Caso contrário, ele será classificado como \"Inocente\".\n",
    "\n",
    "perguntas = ['Telefonou para a vítima?',\n",
    "            'Esteve no local do crime?',\n",
    "            'Mora perto da vítima?',\n",
    "            'Devia para a vítima?',\n",
    "            'Já trabalhou com a vítima?']\n",
    "p = 0\n",
    "pos = 0\n",
    "neg = 0\n",
    "for p in range(len(perguntas)):\n",
    "    r = perguntas[p]\n",
    "    pergn = input(r).upper()\n",
    "    if pergn == 'SIM':\n",
    "         pos += 1\n",
    "    elif pergn == 'NÃO' or pergn == 'NÃO':\n",
    "        neg += 1\n",
    "    else:\n",
    "         break\n",
    "if pos == 2:\n",
    "    print('Suspeito (a)')\n",
    "elif 3 <= pos <= 4:\n",
    "    print('Cúmplice')\n",
    "elif pos == 5:\n",
    "    print('Assassino')\n",
    "elif pos == 0:\n",
    "    print('Inocente')\n",
    "else:\n",
    "    print('Erro')\n",
    "  \n"
   ]
  },
  {
   "cell_type": "code",
   "execution_count": null,
   "id": "27de97ba",
   "metadata": {},
   "outputs": [],
   "source": []
  },
  {
   "cell_type": "code",
   "execution_count": null,
   "id": "c856053b",
   "metadata": {},
   "outputs": [],
   "source": []
  }
 ],
 "metadata": {
  "kernelspec": {
   "display_name": "Python 3 (ipykernel)",
   "language": "python",
   "name": "python3"
  },
  "language_info": {
   "codemirror_mode": {
    "name": "ipython",
    "version": 3
   },
   "file_extension": ".py",
   "mimetype": "text/x-python",
   "name": "python",
   "nbconvert_exporter": "python",
   "pygments_lexer": "ipython3",
   "version": "3.9.12"
  }
 },
 "nbformat": 4,
 "nbformat_minor": 5
}
