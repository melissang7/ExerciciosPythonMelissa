{
 "cells": [
  {
   "cell_type": "code",
   "execution_count": 7,
   "id": "fe0b0b81",
   "metadata": {},
   "outputs": [
    {
     "name": "stdout",
     "output_type": "stream",
     "text": [
      "Insira um número: 5\n",
      "Insira um número: 3\n",
      "Insira um número: 2\n",
      "Insira um número: 5\n",
      "Insira um número: 2\n",
      "os numeros são: [5, 3, 2, 5, 2], a soma entre eles é: 17 e a multiplicação entre eles é: 300 \n"
     ]
    }
   ],
   "source": [
    "#1. Faça um Programa que leia um vetor de 5 números inteiros, mostre a soma, a multiplicação e os números.\n",
    "\n",
    "v = []\n",
    "multi = 1\n",
    "soma = 0\n",
    "for i in range(1,6):\n",
    "        num= int(input('Insira um número: '.format(i)))\n",
    "        v.append(num)\n",
    "        soma += num\n",
    "        multi = multi * num\n",
    "print('os numeros são: {}, a soma entre eles é: {} e a multiplicação entre eles é: {} '.format(v, soma, multi))"
   ]
  },
  {
   "cell_type": "code",
   "execution_count": null,
   "id": "0e56e976",
   "metadata": {},
   "outputs": [],
   "source": []
  }
 ],
 "metadata": {
  "kernelspec": {
   "display_name": "Python 3 (ipykernel)",
   "language": "python",
   "name": "python3"
  },
  "language_info": {
   "codemirror_mode": {
    "name": "ipython",
    "version": 3
   },
   "file_extension": ".py",
   "mimetype": "text/x-python",
   "name": "python",
   "nbconvert_exporter": "python",
   "pygments_lexer": "ipython3",
   "version": "3.9.12"
  }
 },
 "nbformat": 4,
 "nbformat_minor": 5
}
