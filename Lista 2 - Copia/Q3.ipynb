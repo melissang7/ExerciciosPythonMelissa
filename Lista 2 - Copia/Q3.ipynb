{
 "cells": [
  {
   "cell_type": "code",
   "execution_count": 32,
   "id": "886c9803",
   "metadata": {},
   "outputs": [
    {
     "name": "stdout",
     "output_type": "stream",
     "text": [
      "A média de altura dos alunos é: 1.75\n",
      "E a quantidade de alunos abaixo da média é: 9 \n"
     ]
    }
   ],
   "source": [
    "#Foram anotadas as idades e alturas de 30 alunos. Faça um Programa que determine quantos alunos com mais de 13 anos possuem \n",
    "#altura inferior à média de altura desses alunos.\n",
    "\n",
    "idade = [20,18,15,21,35,23,19,25,32,26,23,19,22,45,35,21,20,26,18,28]\n",
    "altura = [1.75,1.70,1.65,1.77,1.80,1.70,1.67,1.78,1.69,1.90,1.81,1.73,1.79,1.75,1.83,1.87,1.57,1.65,1.70,1.80]\n",
    "\n",
    "\n",
    "media = sum(altura) / len(altura)\n",
    "print('A média de altura dos alunos é: {:.2f}'.format(media))\n",
    "\n",
    "c = 0\n",
    "qtd = 0\n",
    "while c < len(idade):\n",
    "    if(idade[c] > 13 and altura[c] < media):\n",
    "        qtd += 1\n",
    "    c += 1\n",
    "print('E a quantidade de alunos abaixo da média é: {} '.format(qtd))"
   ]
  },
  {
   "cell_type": "code",
   "execution_count": null,
   "id": "27730667",
   "metadata": {},
   "outputs": [],
   "source": []
  }
 ],
 "metadata": {
  "kernelspec": {
   "display_name": "Python 3 (ipykernel)",
   "language": "python",
   "name": "python3"
  },
  "language_info": {
   "codemirror_mode": {
    "name": "ipython",
    "version": 3
   },
   "file_extension": ".py",
   "mimetype": "text/x-python",
   "name": "python",
   "nbconvert_exporter": "python",
   "pygments_lexer": "ipython3",
   "version": "3.9.12"
  }
 },
 "nbformat": 4,
 "nbformat_minor": 5
}
