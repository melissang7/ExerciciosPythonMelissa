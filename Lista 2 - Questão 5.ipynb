{
 "cells": [
  {
   "cell_type": "code",
   "execution_count": null,
   "id": "a6755694",
   "metadata": {},
   "outputs": [],
   "source": [
    "#Utilizando listas faça um programa que faça 5 perguntas para uma pessoa\n",
    "#sobre um crime. As perguntas são:\n",
    "#a) \"Telefonou para a vítima?\"\n",
    "#b) \"Esteve no local do crime?\"\n",
    "#c) \"Mora perto da vítima?\"\n",
    "#d) \"Devia para a vítima?\"\n",
    "#e) \"Já trabalhou com a vítima?\"\n",
    "#O programa deve no final emitir uma classificação sobre a participação da\n",
    "#pessoa no crime. Se a pessoa responder positivamente a 2 questões ela\n",
    "#deve ser classificada como \"Suspeita\", entre 3 e 4 como \"Cúmplice\" e 5\n",
    "#como \"Assassino\". Caso contrário, ele será classificado como \"Inocente\".\n",
    "\n",
    "status = [ 'Suspeito(a)', #0\n",
    "            'Cúmplice', #1\n",
    "            'Assassino', #2\n",
    "            'Inocente'] #3\n",
    "\n",
    "perguntas = ['Telefonou para a vítima?',\n",
    "             'Esteve no local do crime?',\n",
    "             'Mora perto da vítima?',\n",
    "             'Devia para a vítima?',\n",
    "             'Já trabalhou com a vítima?']\n",
    "\n",
    "cont = 0\n",
    "\n",
    "respostas = True\n",
    "for i in range(len(perguntas)):\n",
    "    respostas = input('{}\\n'.format(perguntas[i]))\n",
    "    if (respostas == 'Sim'):\n",
    "        cont = cont + 1\n",
    "\n",
    "        if (cont == 2):\n",
    "            print(status[0])\n",
    "    elif (cont == 3 or cont == 4):\n",
    "        print(status[1])\n",
    "    elif (cont == 5):\n",
    "        print(status[2])\n",
    "    elif (cont <2):\n",
    "        print(status[3]) "
   ]
  },
  {
   "cell_type": "code",
   "execution_count": null,
   "id": "6b57707d",
   "metadata": {},
   "outputs": [],
   "source": []
  }
 ],
 "metadata": {
  "kernelspec": {
   "display_name": "Python 3 (ipykernel)",
   "language": "python",
   "name": "python3"
  },
  "language_info": {
   "codemirror_mode": {
    "name": "ipython",
    "version": 3
   },
   "file_extension": ".py",
   "mimetype": "text/x-python",
   "name": "python",
   "nbconvert_exporter": "python",
   "pygments_lexer": "ipython3",
   "version": "3.9.7"
  }
 },
 "nbformat": 4,
 "nbformat_minor": 5
}
