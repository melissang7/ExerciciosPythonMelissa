{
 "cells": [
  {
   "cell_type": "code",
   "execution_count": 6,
   "id": "2762ef2f",
   "metadata": {},
   "outputs": [
    {
     "name": "stdout",
     "output_type": "stream",
     "text": [
      "Insira um número aqui: 6\n",
      "Insira um número aqui: 2\n",
      "Insira um número aqui: 2\n",
      "Insira um número aqui: 2\n",
      "Insira um número aqui: 2\n",
      "Insira um número aqui: 2\n",
      "Insira um número aqui: 2\n",
      "Insira um número aqui: 2\n",
      "Insira um número aqui: 2\n",
      "Insira um número aqui: 2\n",
      "Os numeros são: [6, 2, 2, 2, 2, 2, 2, 2, 2, 2] e a soma dos quadrados é: 72 \n"
     ]
    }
   ],
   "source": [
    "#2. Faça um Programa que leia um vetor A com 10 números inteiros, calcule e mostre a soma dos quadrados dos elementos do vetor.\n",
    "\n",
    "vA = []\n",
    "soma = 0\n",
    "\n",
    "for i in range(0,10):\n",
    "    num = int(input('Insira um número aqui: '.format(i)))\n",
    "    vA.append(num)\n",
    "    soma +=(vA[len(vA)-1]**2)\n",
    "print('Os numeros são: {} e a soma dos quadrados é: {} '.format(vA,soma))"
   ]
  },
  {
   "cell_type": "code",
   "execution_count": null,
   "id": "503ae6d7",
   "metadata": {},
   "outputs": [],
   "source": []
  }
 ],
 "metadata": {
  "kernelspec": {
   "display_name": "Python 3 (ipykernel)",
   "language": "python",
   "name": "python3"
  },
  "language_info": {
   "codemirror_mode": {
    "name": "ipython",
    "version": 3
   },
   "file_extension": ".py",
   "mimetype": "text/x-python",
   "name": "python",
   "nbconvert_exporter": "python",
   "pygments_lexer": "ipython3",
   "version": "3.9.12"
  }
 },
 "nbformat": 4,
 "nbformat_minor": 5
}
