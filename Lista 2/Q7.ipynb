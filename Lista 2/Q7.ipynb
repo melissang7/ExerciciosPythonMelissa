{
 "cells": [
  {
   "cell_type": "code",
   "execution_count": 17,
   "id": "2bec11a9",
   "metadata": {},
   "outputs": [
    {
     "name": "stdout",
     "output_type": "stream",
     "text": [
      "Escolha uma opção: (Novo, Sair): Novo\n",
      "Nome: Melissa\n",
      "Idade: 23\n",
      "Telefone: 55555\n",
      "Escolha uma opção: (Novo, Sair): Sair\n"
     ]
    }
   ],
   "source": [
    "#Melhore o programa acima adicionando a função que ler um número indeterminado de dados, e imprima todos os itens \n",
    "#do dicionário no formato “Chave: nome-idade-fone”\n",
    "\n",
    "agenda = {}\n",
    "opcao = 'Continue'\n",
    "\n",
    "while opcao != 'Sair':\n",
    "    opcao = input('Escolha uma opção: (Novo, Sair): ')\n",
    "    if opcao == 'Novo':\n",
    "        nome = input('Nome: ')\n",
    "        idade = input('Idade: ')\n",
    "        telefone = input('Telefone: ')\n",
    "   "
   ]
  },
  {
   "cell_type": "code",
   "execution_count": null,
   "id": "7ba37f94",
   "metadata": {},
   "outputs": [],
   "source": []
  }
 ],
 "metadata": {
  "kernelspec": {
   "display_name": "Python 3 (ipykernel)",
   "language": "python",
   "name": "python3"
  },
  "language_info": {
   "codemirror_mode": {
    "name": "ipython",
    "version": 3
   },
   "file_extension": ".py",
   "mimetype": "text/x-python",
   "name": "python",
   "nbconvert_exporter": "python",
   "pygments_lexer": "ipython3",
   "version": "3.9.12"
  }
 },
 "nbformat": 4,
 "nbformat_minor": 5
}
