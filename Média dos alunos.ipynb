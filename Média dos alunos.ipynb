{
 "cells": [
  {
   "cell_type": "code",
   "execution_count": null,
   "id": "6a54970e",
   "metadata": {},
   "outputs": [],
   "source": [
    "def calcular_media():\n",
    "    n1=input('Insira a primeira nota: ')\n",
    "    n2=input('Insira a segunda nota: ')\n",
    " \n",
    "    return (float(n1)+float(n2))/2 \n",
    "media = calcular_media()\n",
    "print('A média das notas é: {}'.format(media))\n",
    "\n",
    "\n",
    "if media > 6:\n",
    "        print('Aluno aprovado')\n",
    "elif (6>=media) and (media >=4):\n",
    "        print('Verificação suplementar')\n",
    "else:\n",
    "        print('Aluno Reprovado')"
   ]
  },
  {
   "cell_type": "code",
   "execution_count": null,
   "id": "bcda7e01",
   "metadata": {},
   "outputs": [],
   "source": []
  },
  {
   "cell_type": "code",
   "execution_count": null,
   "id": "263b20e6",
   "metadata": {},
   "outputs": [],
   "source": []
  }
 ],
 "metadata": {
  "kernelspec": {
   "display_name": "Python 3 (ipykernel)",
   "language": "python",
   "name": "python3"
  },
  "language_info": {
   "codemirror_mode": {
    "name": "ipython",
    "version": 3
   },
   "file_extension": ".py",
   "mimetype": "text/x-python",
   "name": "python",
   "nbconvert_exporter": "python",
   "pygments_lexer": "ipython3",
   "version": "3.9.7"
  }
 },
 "nbformat": 4,
 "nbformat_minor": 5
}
