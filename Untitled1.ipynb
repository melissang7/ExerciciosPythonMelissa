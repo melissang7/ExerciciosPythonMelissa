{
 "cells": [
  {
   "cell_type": "code",
   "execution_count": 1,
   "id": "7e29b476",
   "metadata": {},
   "outputs": [
    {
     "ename": "SyntaxError",
     "evalue": "invalid syntax (Temp/ipykernel_7596/3843411949.py, line 14)",
     "output_type": "error",
     "traceback": [
      "\u001b[1;36m  File \u001b[1;32m\"C:\\Users\\ALUNO1~1.IBC\\AppData\\Local\\Temp/ipykernel_7596/3843411949.py\"\u001b[1;36m, line \u001b[1;32m14\u001b[0m\n\u001b[1;33m    else\u001b[0m\n\u001b[1;37m        ^\u001b[0m\n\u001b[1;31mSyntaxError\u001b[0m\u001b[1;31m:\u001b[0m invalid syntax\n"
     ]
    }
   ],
   "source": [
    "meta = 1000\n",
    "vendas_funcionario1 = 1000\n",
    "vendas_funcionario2 = 770\n",
    "vendas_funcionario3 = 2700\n",
    "\n",
    "if vendas_funcionario1 >= meta:\n",
    "    bonus = 0.1*vendas_funcionario1\n",
    "    print(\"o bonus do funcionario 1 é {}\".format(bonus))\n",
    "\n",
    "    \n",
    "if vendas_funcionario2 >= meta:\n",
    "        bonus = 0.1*vendas_funcionario2\n",
    "        print(\"o bonus do funcionario 2 é {}\".format(bonus))\n",
    "else\n",
    "        print (\"Funcionário não atingiu a meta\")\n",
    "        \n",
    "        \n",
    "if vendas_funcionario3 >= meta\n",
    "         bonus = 0.1*vendas_funcionario3\n",
    "            print (\"o bonus do funcionario 3 é {}\".format(bonus))\n"
   ]
  },
  {
   "cell_type": "code",
   "execution_count": null,
   "id": "c34182ba",
   "metadata": {},
   "outputs": [],
   "source": []
  }
 ],
 "metadata": {
  "kernelspec": {
   "display_name": "Python 3 (ipykernel)",
   "language": "python",
   "name": "python3"
  },
  "language_info": {
   "codemirror_mode": {
    "name": "ipython",
    "version": 3
   },
   "file_extension": ".py",
   "mimetype": "text/x-python",
   "name": "python",
   "nbconvert_exporter": "python",
   "pygments_lexer": "ipython3",
   "version": "3.9.7"
  }
 },
 "nbformat": 4,
 "nbformat_minor": 5
}
