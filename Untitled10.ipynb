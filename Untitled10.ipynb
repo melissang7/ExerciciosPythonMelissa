{
 "cells": [
  {
   "cell_type": "code",
   "execution_count": null,
   "id": "3abb0432",
   "metadata": {},
   "outputs": [],
   "source": [
    "#exempro mais simples para simplificar a visualização\n",
    "\n",
    "precos_imoveis = [2,17,1,54,1,45,1,94,2,37,2,3,1,79,1,8,2,25,1,37]\n",
    "tamanho_imoveis = [207,148,130,203,257,228,160,194,232,147]\n",
    "\n",
    "#\n",
    "\n",
    "fator = 0.1\n",
    "\n",
    "#\n",
    "\n",
    "i = int(1 - fator)*len(precos_imoveis)\n"
   ]
  }
 ],
 "metadata": {
  "kernelspec": {
   "display_name": "Python 3 (ipykernel)",
   "language": "python",
   "name": "python3"
  },
  "language_info": {
   "codemirror_mode": {
    "name": "ipython",
    "version": 3
   },
   "file_extension": ".py",
   "mimetype": "text/x-python",
   "name": "python",
   "nbconvert_exporter": "python",
   "pygments_lexer": "ipython3",
   "version": "3.9.7"
  }
 },
 "nbformat": 4,
 "nbformat_minor": 5
}
