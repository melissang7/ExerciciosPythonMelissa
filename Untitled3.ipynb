{
  "nbformat": 4,
  "nbformat_minor": 0,
  "metadata": {
    "colab": {
      "name": "Untitled3.ipynb",
      "provenance": [],
      "authorship_tag": "ABX9TyPcXDLfP3MeCXANj+WYMhn7",
      "include_colab_link": true
    },
    "kernelspec": {
      "name": "python3",
      "display_name": "Python 3"
    },
    "language_info": {
      "name": "python"
    }
  },
  "cells": [
    {
      "cell_type": "markdown",
      "metadata": {
        "id": "view-in-github",
        "colab_type": "text"
      },
      "source": [
        "<a href=\"https://colab.research.google.com/github/melissang7/ExerciciosPythonMelissa/blob/main/Untitled3.ipynb\" target=\"_parent\"><img src=\"https://colab.research.google.com/assets/colab-badge.svg\" alt=\"Open In Colab\"/></a>"
      ]
    },
    {
      "cell_type": "code",
      "execution_count": 1,
      "metadata": {
        "colab": {
          "base_uri": "https://localhost:8080/"
        },
        "id": "_2qfZWWtvURi",
        "outputId": "62dca134-866e-452e-8074-2c626ec6ee62"
      },
      "outputs": [
        {
          "output_type": "stream",
          "name": "stdout",
          "text": [
            "Tabuada do: 3\n",
            "---------------\n",
            "3 x  1 = 3\n",
            "3 x  2 = 6\n",
            "3 x  3 = 9\n",
            "3 x  4 = 12\n",
            "3 x  5 = 15\n",
            "3 x  6 = 18\n",
            "3 x  7 = 21\n",
            "3 x  8 = 24\n",
            "3 x  9 = 27\n",
            "3 x 10 = 30\n",
            "---------------\n"
          ]
        }
      ],
      "source": [
        "#4. Faça um programa em Python que leia um valor inteiro e mostre a tabuada de 1 a 10 do valor lido.\n",
        "\n",
        "num=int(input('Tabuada do: '))\n",
        "print('-'*15)\n",
        "for cont in range(1,11):\n",
        "        print('{} x {:2} = {}'.format(num,cont, num*cont))\n",
        "print('-'*15)"
      ]
    }
  ]
}