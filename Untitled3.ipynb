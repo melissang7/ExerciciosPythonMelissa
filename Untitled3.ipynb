{
 "cells": [
  {
   "cell_type": "code",
   "execution_count": 6,
   "id": "9011c999",
   "metadata": {},
   "outputs": [
    {
     "name": "stdout",
     "output_type": "stream",
     "text": [
      "[25000, 29000, 22200, 17750, 15870, 19900, 19850, 20120, 17540, 15555, 49051, 9650]\n",
      "Maior venda 49051\n",
      "Menor venda 9650\n",
      "O faturamento total foi de: R$261,486\n"
     ]
    }
   ],
   "source": [
    "# Qual foi o valor de vendas do melhor mês do Ano?\n",
    "#E valor do pior mês do ano?\n",
    "\n",
    "meses = ['jan', 'fev', 'mar', 'abr', 'mai', 'jun', 'jul', 'ago', 'set', 'out', 'nov', 'dez']\n",
    "vendas_1sem = [25000, 29000, 22200, 17750, 15870, 19900]\n",
    "vendas_2sem = [19850, 20120, 17540, 15555, 49051, 9650]\n",
    "\n",
    "vendas_1sem.extend(vendas_2sem)\n",
    "print(vendas_1sem)\n",
    "print(\"Maior venda\",max(vendas_1sem))\n",
    "print(\"Menor venda\",min(vendas_2sem))\n",
    "faturamento_total = sum(vendas_1sem)\n",
    "print('O faturamento total foi de: R${:,}'.format(faturamento_total))"
   ]
  },
  {
   "cell_type": "code",
   "execution_count": null,
   "id": "39c48acb",
   "metadata": {},
   "outputs": [],
   "source": []
  }
 ],
 "metadata": {
  "kernelspec": {
   "display_name": "Python 3 (ipykernel)",
   "language": "python",
   "name": "python3"
  },
  "language_info": {
   "codemirror_mode": {
    "name": "ipython",
    "version": 3
   },
   "file_extension": ".py",
   "mimetype": "text/x-python",
   "name": "python",
   "nbconvert_exporter": "python",
   "pygments_lexer": "ipython3",
   "version": "3.9.7"
  }
 },
 "nbformat": 4,
 "nbformat_minor": 5
}
