{
 "cells": [
  {
   "cell_type": "code",
   "execution_count": 1,
   "id": "e13dfa6c",
   "metadata": {},
   "outputs": [
    {
     "name": "stdout",
     "output_type": "stream",
     "text": [
      "Telefonou para a vítima? 1/Sim ou 0/Não: Sim\n",
      "Esteve no local do crime? 1/Sim ou 0/Não: Não\n",
      "Mora perto da vítima? 1/Sim ou 0/Não: Sim\n",
      "Devia para a vítima? 1/Sim ou 0/Não: Não\n",
      "Já trabalhou com a vítima? 1/Sim ou 0/Não: Sim\n"
     ]
    },
    {
     "ename": "ValueError",
     "evalue": "invalid literal for int() with base 10: 'Sim'",
     "output_type": "error",
     "traceback": [
      "\u001b[1;31m---------------------------------------------------------------------------\u001b[0m",
      "\u001b[1;31mValueError\u001b[0m                                Traceback (most recent call last)",
      "\u001b[1;32mC:\\Users\\ALUNO1~1.IBC\\AppData\\Local\\Temp/ipykernel_8244/954156166.py\u001b[0m in \u001b[0;36m<module>\u001b[1;34m\u001b[0m\n\u001b[0;32m      7\u001b[0m \u001b[0msoma_respostas\u001b[0m \u001b[1;33m=\u001b[0m \u001b[1;36m0\u001b[0m\u001b[1;33m\u001b[0m\u001b[1;33m\u001b[0m\u001b[0m\n\u001b[0;32m      8\u001b[0m \u001b[1;32mfor\u001b[0m \u001b[0mi\u001b[0m \u001b[1;32min\u001b[0m \u001b[0mresposta\u001b[0m\u001b[1;33m:\u001b[0m \u001b[1;31m# soma o número de respostas\u001b[0m\u001b[1;33m\u001b[0m\u001b[1;33m\u001b[0m\u001b[0m\n\u001b[1;32m----> 9\u001b[1;33m       \u001b[0msoma_respostas\u001b[0m \u001b[1;33m+=\u001b[0m \u001b[0mint\u001b[0m\u001b[1;33m(\u001b[0m\u001b[0mi\u001b[0m\u001b[1;33m)\u001b[0m\u001b[1;33m\u001b[0m\u001b[1;33m\u001b[0m\u001b[0m\n\u001b[0m\u001b[0;32m     10\u001b[0m \u001b[1;32mif\u001b[0m \u001b[1;33m(\u001b[0m\u001b[0msoma_respostas\u001b[0m \u001b[1;33m<\u001b[0m \u001b[1;36m2\u001b[0m\u001b[1;33m)\u001b[0m\u001b[1;33m:\u001b[0m\u001b[1;33m\u001b[0m\u001b[1;33m\u001b[0m\u001b[0m\n\u001b[0;32m     11\u001b[0m      \u001b[0mprint\u001b[0m\u001b[1;33m(\u001b[0m\u001b[1;34m\"\\nInocente\"\u001b[0m\u001b[1;33m)\u001b[0m\u001b[1;33m\u001b[0m\u001b[1;33m\u001b[0m\u001b[0m\n",
      "\u001b[1;31mValueError\u001b[0m: invalid literal for int() with base 10: 'Sim'"
     ]
    }
   ],
   "source": [
    "resposta = []\n",
    "resposta.append(input(\"Telefonou para a vítima? 1/Sim ou 0/Não: \"))\n",
    "resposta.append(input(\"Esteve no local do crime? 1/Sim ou 0/Não: \"))\n",
    "resposta.append(input(\"Mora perto da vítima? 1/Sim ou 0/Não: \"))\n",
    "resposta.append(input(\"Devia para a vítima? 1/Sim ou 0/Não: \"))\n",
    "resposta.append(input(\"Já trabalhou com a vítima? 1/Sim ou 0/Não: \"))\n",
    "soma_respostas = 0\n",
    "for i in resposta: # soma o número de respostas\n",
    "      soma_respostas += int(i)\n",
    "if (soma_respostas < 2):\n",
    "     print(\"\\nInocente\")\n",
    "elif (soma_respostas == 2):\n",
    "     print(\"\\nSuspeita\")\n",
    "elif (3 <= soma_respostas <= 4):\n",
    "     print(\"\\nCúmplice\")\n",
    "elif (soma_respostas == 5):\n",
    "     print(\"\\nAssassino\")"
   ]
  },
  {
   "cell_type": "code",
   "execution_count": null,
   "id": "6d85995f",
   "metadata": {},
   "outputs": [],
   "source": []
  }
 ],
 "metadata": {
  "kernelspec": {
   "display_name": "Python 3 (ipykernel)",
   "language": "python",
   "name": "python3"
  },
  "language_info": {
   "codemirror_mode": {
    "name": "ipython",
    "version": 3
   },
   "file_extension": ".py",
   "mimetype": "text/x-python",
   "name": "python",
   "nbconvert_exporter": "python",
   "pygments_lexer": "ipython3",
   "version": "3.9.7"
  }
 },
 "nbformat": 4,
 "nbformat_minor": 5
}
