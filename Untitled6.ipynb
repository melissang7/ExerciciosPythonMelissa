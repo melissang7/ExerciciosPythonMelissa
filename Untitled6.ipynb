{
 "cells": [
  {
   "cell_type": "code",
   "execution_count": 9,
   "id": "8516d1db",
   "metadata": {},
   "outputs": [
    {
     "name": "stdout",
     "output_type": "stream",
     "text": [
      "Apenas os vendedores João conseguiram bater a meta, vendeu: 305000 unidades\n",
      "Apenas os vendedores Ana conseguiram bater a meta, vendeu: 450000 unidades\n"
     ]
    }
   ],
   "source": [
    "meta = 250000\n",
    "vendas = [\n",
    "    ('João', 305000),\n",
    "    ('Julia', 27000),\n",
    "    ('Marcus', 9900),\n",
    "    ('Maria', 3750),\n",
    "    ('Ana', 450000),\n",
    "    ('Alon', 7870),\n",
    "]\n",
    "\n",
    "for vendedor, qtd in vendas:\n",
    "    if qtd>=meta:\n",
    "        print(\"Apenas os vendedores {} conseguiram bater a meta, vendeu: {} unidades\".format(vendedor,qtd))"
   ]
  },
  {
   "cell_type": "code",
   "execution_count": 12,
   "id": "32c6f021",
   "metadata": {},
   "outputs": [
    {
     "name": "stdout",
     "output_type": "stream",
     "text": [
      "iphone teve 558147 vendas em 2019, 951642 vendas em 2020. Crescimento 70.50%\n",
      "tv teve 405252 vendas em 2019, 787604 vendas em 2020. Crescimento 94.35%\n",
      "Notebool Dell teve 422760 vendas em 2019, 694913 vendas em 2020. Crescimento 64.38%\n"
     ]
    }
   ],
   "source": [
    "vendas_produtos = [('iphone', 558147, 951642), ('galaxy', 712350, 244295), ('ipad', 573823, 26964), ('tv', 405252, 787604), ('máquina de café', 718654, 86456),('Kindle',531580, 78830),('Geladeira',973139,710331),('Notebool Dell',422760,694913)]\n",
    "\n",
    "for produtos, vendas2019, vendas2020 in vendas_produtos:\n",
    "    if vendas2020>vendas2019:\n",
    "        crescimento = vendas2020/vendas2019-1\n",
    "        print('{} teve {} vendas em 2019, {} vendas em 2020. Crescimento {:.2%}'.format(produtos,vendas2019, vendas2020, crescimento))\n",
    "        "
   ]
  },
  {
   "cell_type": "code",
   "execution_count": null,
   "id": "59521c16",
   "metadata": {},
   "outputs": [],
   "source": []
  }
 ],
 "metadata": {
  "kernelspec": {
   "display_name": "Python 3 (ipykernel)",
   "language": "python",
   "name": "python3"
  },
  "language_info": {
   "codemirror_mode": {
    "name": "ipython",
    "version": 3
   },
   "file_extension": ".py",
   "mimetype": "text/x-python",
   "name": "python",
   "nbconvert_exporter": "python",
   "pygments_lexer": "ipython3",
   "version": "3.9.7"
  }
 },
 "nbformat": 4,
 "nbformat_minor": 5
}
