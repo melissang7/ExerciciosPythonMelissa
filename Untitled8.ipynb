{
 "cells": [
  {
   "cell_type": "code",
   "execution_count": null,
   "id": "ea31cfba",
   "metadata": {},
   "outputs": [
    {
     "name": "stdout",
     "output_type": "stream",
     "text": [
      "====================================\n",
      "         Contatos CETAM \n",
      "====================================\n"
     ]
    }
   ],
   "source": [
    "print('====================================')\n",
    "print('         Contatos CETAM ')\n",
    "print('====================================')\n",
    "\n",
    "contatos = {}\n",
    "comando = 'continue'\n",
    "\n",
    "while comando != 'sair':\n",
    "    comando = input('Digite o seu comando:(novo,pesquisar,sair): ')\n",
    "    if comando =='novo':\n",
    "        nome == input ('Nome: ') .strip()\n",
    "        telefone == input ('Telefone: ').strip()\n",
    "        email == input ('Email: ') .strip()\n",
    "        \n",
    "        contatos[nome.lower()]={\n",
    "            'nome': nome,\n",
    "            'telefone': telefone,\n",
    "            'email': email\n",
    "        }\n",
    "    if comando =='pesquisar':\n",
    "        nome= input('Nome:').lower()\n",
    "        "
   ]
  },
  {
   "cell_type": "code",
   "execution_count": null,
   "id": "2d052f2a",
   "metadata": {},
   "outputs": [],
   "source": []
  },
  {
   "cell_type": "code",
   "execution_count": null,
   "id": "b5b0649f",
   "metadata": {},
   "outputs": [],
   "source": []
  }
 ],
 "metadata": {
  "kernelspec": {
   "display_name": "Python 3 (ipykernel)",
   "language": "python",
   "name": "python3"
  },
  "language_info": {
   "codemirror_mode": {
    "name": "ipython",
    "version": 3
   },
   "file_extension": ".py",
   "mimetype": "text/x-python",
   "name": "python",
   "nbconvert_exporter": "python",
   "pygments_lexer": "ipython3",
   "version": "3.9.7"
  }
 },
 "nbformat": 4,
 "nbformat_minor": 5
}
