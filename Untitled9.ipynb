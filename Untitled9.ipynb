{
 "cells": [
  {
   "cell_type": "code",
   "execution_count": 11,
   "id": "38a0a281",
   "metadata": {},
   "outputs": [
    {
     "ename": "NameError",
     "evalue": "name 'intem' is not defined",
     "output_type": "error",
     "traceback": [
      "\u001b[1;31m---------------------------------------------------------------------------\u001b[0m",
      "\u001b[1;31mNameError\u001b[0m                                 Traceback (most recent call last)",
      "\u001b[1;32mC:\\Users\\ALUNO1~1.IBC\\AppData\\Local\\Temp/ipykernel_5332/3000327887.py\u001b[0m in \u001b[0;36m<module>\u001b[1;34m\u001b[0m\n\u001b[0;32m     11\u001b[0m \u001b[1;33m\u001b[0m\u001b[0m\n\u001b[0;32m     12\u001b[0m \u001b[0mcod_produtos\u001b[0m \u001b[1;33m=\u001b[0m \u001b[1;33m[\u001b[0m\u001b[1;34m'ABC12'\u001b[0m\u001b[1;33m,\u001b[0m\u001b[1;34m'abc34'\u001b[0m\u001b[1;33m,\u001b[0m\u001b[1;34m'AbC37'\u001b[0m\u001b[1;33m]\u001b[0m\u001b[1;33m\u001b[0m\u001b[1;33m\u001b[0m\u001b[0m\n\u001b[1;32m---> 13\u001b[1;33m \u001b[0mprint\u001b[0m\u001b[1;33m(\u001b[0m\u001b[0mpadronizar_codigo\u001b[0m\u001b[1;33m(\u001b[0m\u001b[0mcod_produtos\u001b[0m\u001b[1;33m,\u001b[0m\u001b[0mpadrao\u001b[0m\u001b[1;33m=\u001b[0m\u001b[1;34m'M'\u001b[0m\u001b[1;33m)\u001b[0m\u001b[1;33m)\u001b[0m\u001b[1;33m\u001b[0m\u001b[1;33m\u001b[0m\u001b[0m\n\u001b[0m",
      "\u001b[1;32mC:\\Users\\ALUNO1~1.IBC\\AppData\\Local\\Temp/ipykernel_5332/3000327887.py\u001b[0m in \u001b[0;36mpadronizar_codigo\u001b[1;34m(lista_codigos, padrao)\u001b[0m\n\u001b[0;32m      1\u001b[0m \u001b[1;32mdef\u001b[0m \u001b[0mpadronizar_codigo\u001b[0m\u001b[1;33m(\u001b[0m\u001b[0mlista_codigos\u001b[0m\u001b[1;33m,\u001b[0m\u001b[0mpadrao\u001b[0m\u001b[1;33m=\u001b[0m\u001b[1;34m'm'\u001b[0m\u001b[1;33m)\u001b[0m\u001b[1;33m:\u001b[0m\u001b[1;33m\u001b[0m\u001b[1;33m\u001b[0m\u001b[0m\n\u001b[0;32m      2\u001b[0m     \u001b[1;32mfor\u001b[0m \u001b[0mi\u001b[0m\u001b[1;33m,\u001b[0m \u001b[0mitem\u001b[0m \u001b[1;32min\u001b[0m \u001b[0menumerate\u001b[0m\u001b[1;33m(\u001b[0m\u001b[0mlista_codigos\u001b[0m\u001b[1;33m)\u001b[0m\u001b[1;33m:\u001b[0m\u001b[1;33m\u001b[0m\u001b[1;33m\u001b[0m\u001b[0m\n\u001b[1;32m----> 3\u001b[1;33m         \u001b[0mitem\u001b[0m \u001b[1;33m=\u001b[0m \u001b[0mintem\u001b[0m\u001b[1;33m.\u001b[0m\u001b[0mreplace\u001b[0m\u001b[1;33m(\u001b[0m\u001b[1;34m'  '\u001b[0m\u001b[1;33m,\u001b[0m \u001b[1;34m'  '\u001b[0m\u001b[1;33m)\u001b[0m\u001b[1;33m\u001b[0m\u001b[1;33m\u001b[0m\u001b[0m\n\u001b[0m\u001b[0;32m      4\u001b[0m         \u001b[0mitem\u001b[0m \u001b[1;33m=\u001b[0m \u001b[0mintem\u001b[0m\u001b[1;33m.\u001b[0m\u001b[0mstrip\u001b[0m\u001b[1;33m(\u001b[0m\u001b[1;33m)\u001b[0m\u001b[1;33m\u001b[0m\u001b[1;33m\u001b[0m\u001b[0m\n\u001b[0;32m      5\u001b[0m         \u001b[1;32mif\u001b[0m \u001b[0mpadrao\u001b[0m \u001b[1;33m==\u001b[0m \u001b[1;34m'm'\u001b[0m\u001b[1;33m:\u001b[0m\u001b[1;33m\u001b[0m\u001b[1;33m\u001b[0m\u001b[0m\n",
      "\u001b[1;31mNameError\u001b[0m: name 'intem' is not defined"
     ]
    }
   ],
   "source": [
    "def padronizar_codigo(lista_codigos,padrao='m'):\n",
    "    for i, item in enumerate(lista_codigos):\n",
    "        item = intem.replace('  ', '  ')\n",
    "        item = intem.strip()\n",
    "        if padrao == 'm':\n",
    "            item = item.casefold()\n",
    "        elif padrao == 'M':\n",
    "            item=intem.upper()\n",
    "        lista_codigos[i] = item\n",
    "    return lista_codigos\n",
    "\n",
    "cod_produtos = ['ABC12','abc34','AbC37']\n",
    "print(padronizar_codigo(cod_produtos,padrao='M'))"
   ]
  },
  {
   "cell_type": "code",
   "execution_count": null,
   "id": "657997ec",
   "metadata": {},
   "outputs": [],
   "source": []
  },
  {
   "cell_type": "code",
   "execution_count": null,
   "id": "9e77bd62",
   "metadata": {},
   "outputs": [],
   "source": []
  }
 ],
 "metadata": {
  "kernelspec": {
   "display_name": "Python 3 (ipykernel)",
   "language": "python",
   "name": "python3"
  },
  "language_info": {
   "codemirror_mode": {
    "name": "ipython",
    "version": 3
   },
   "file_extension": ".py",
   "mimetype": "text/x-python",
   "name": "python",
   "nbconvert_exporter": "python",
   "pygments_lexer": "ipython3",
   "version": "3.9.7"
  }
 },
 "nbformat": 4,
 "nbformat_minor": 5
}
