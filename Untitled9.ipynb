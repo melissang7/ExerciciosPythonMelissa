{
 "cells": [
  {
   "cell_type": "code",
   "execution_count": 6,
   "id": "f0935635",
   "metadata": {},
   "outputs": [
    {
     "name": "stdout",
     "output_type": "stream",
     "text": [
      "O(a),vendedor(a), Melissa conseguiu bater a meta, vendeu: 15000 unidades\n",
      "O(a),vendedor(a), Alice conseguiu bater a meta, vendeu: 12000 unidades\n",
      "O(a),vendedor(a), Elena conseguiu bater a meta, vendeu: 13000 unidades\n",
      "O(a),vendedor(a), Carlos conseguiu bater a meta, vendeu: 15000 unidades\n",
      "O(a),vendedor(a), Marcos conseguiu bater a meta, vendeu: 12000 unidades\n"
     ]
    }
   ],
   "source": [
    "meta = 10000\n",
    "vendas = [\n",
    "    ('Maria',1500),\n",
    "    ('João',2600),\n",
    "    ('Melissa',15000),\n",
    "    ('Pedro',7000),\n",
    "    ('Felipe',1500),\n",
    "    ('Ana', 3500),\n",
    "    ('Alice',12000),\n",
    "    ('Elena', 13000),\n",
    "    ('Caio', 3000),\n",
    "    ('Carlos', 15000),\n",
    "    ('Marcos', 12000)\n",
    "]\n",
    "\n",
    "for vendedor, qtd in vendas:\n",
    "    if qtd>=meta:\n",
    "        print(\"O(a),vendedor(a), {} conseguiu bater a meta, vendeu: {} unidades\".format(vendedor,qtd))"
   ]
  },
  {
   "cell_type": "code",
   "execution_count": null,
   "id": "cb8b56ca",
   "metadata": {},
   "outputs": [],
   "source": []
  }
 ],
 "metadata": {
  "kernelspec": {
   "display_name": "Python 3 (ipykernel)",
   "language": "python",
   "name": "python3"
  },
  "language_info": {
   "codemirror_mode": {
    "name": "ipython",
    "version": 3
   },
   "file_extension": ".py",
   "mimetype": "text/x-python",
   "name": "python",
   "nbconvert_exporter": "python",
   "pygments_lexer": "ipython3",
   "version": "3.9.7"
  }
 },
 "nbformat": 4,
 "nbformat_minor": 5
}
