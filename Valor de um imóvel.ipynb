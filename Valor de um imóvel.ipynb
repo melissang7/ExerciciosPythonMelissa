{
 "cells": [
  {
   "cell_type": "code",
   "execution_count": null,
   "id": "179a0d9c",
   "metadata": {},
   "outputs": [],
   "source": [
    "#Vamos então pensar no exemplo de um modelo que tenta identificar qual o valor justo de um imóvel de acordo com o tamanho do imóvel. Temos então 2 listas:\n",
    "#Lista 1: Preços Reais dos Imóveis\n",
    "#Lista 2: Tamanho do imóvel.\n",
    "#Vamos criar então uma função que recebe 2 listas como entrada e que divide cada uma dessas listas em 2, um pedaço de treino e um pedaço de teste. O percentual que a lista vai ser dividida é definida por um fator (que também vai ser um parâmetro da função)\n",
    "\n",
    "#exemplo mais simples para facilitar a visualização\n",
    "precos_imoveis = [2.17,1.54,1.45,1.94,2.37,2.3,1.79,1.8,2.25,1.37]\n",
    "tamanho_imoveis = [207,148,130,203,257,228,160,194,232,147]\n",
    "\n",
    "# Vamos definir qual o fator que vamos dividir as listas (ou seja, quantos % da lista vai ficar pra teste. O resto fica pra treino)\n",
    "#Vamos usar 0.1 (10%)\n",
    "\n",
    "fator = 0.5\n",
    "\n",
    "#Isso significa que a lista de teste tem quantos itens?\n",
    "\n",
    "i = int((1 - fator)*len(precos_imoveis))\n",
    "print(i)\n",
    "\n",
    "\n",
    "#Agora vamos entender qual conta temos que fazer para dividir a lista em 2 listas. Uma com 90% dos valores e outra com 10%\n",
    "\n",
    "preco_treino = precos_imoveis[:i]\n",
    "preco_teste = precos_imoveis[i:]\n",
    "tamanho_treino = tamanho_imoveis[:i]\n",
    "tamanho_teste = tamanho_imoveis[i:]\n",
    "\n",
    "print(preco_treino)\n",
    "print(preco_teste)\n",
    "print(tamanho_treino)\n",
    "print(tamanho_teste)"
   ]
  }
 ],
 "metadata": {
  "kernelspec": {
   "display_name": "Python 3 (ipykernel)",
   "language": "python",
   "name": "python3"
  },
  "language_info": {
   "codemirror_mode": {
    "name": "ipython",
    "version": 3
   },
   "file_extension": ".py",
   "mimetype": "text/x-python",
   "name": "python",
   "nbconvert_exporter": "python",
   "pygments_lexer": "ipython3",
   "version": "3.9.7"
  }
 },
 "nbformat": 4,
 "nbformat_minor": 5
}
