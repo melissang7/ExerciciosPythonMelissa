{
 "cells": [
  {
   "cell_type": "code",
   "execution_count": 13,
   "id": "6bb4463d",
   "metadata": {},
   "outputs": [
    {
     "name": "stdout",
     "output_type": "stream",
     "text": [
      "Digite a temperatura de Janeiro em ºC: 32\n",
      "Digite a temperatura de Fevereiro em ºC: 35\n",
      "Digite a temperatura de Março em ºC: 26\n",
      "Digite a temperatura de Abril em ºC: 42\n",
      "Digite a temperatura de Maio em ºC: 34\n",
      "Digite a temperatura de Junho em ºC: 53\n",
      "Digite a temperatura de Julho em ºC: 47\n",
      "Digite a temperatura de Agosto em ºC: 42\n",
      "Digite a temperatura de Setembro em ºC: 38\n",
      "Digite a temperatura de Outubro em ºC: 35\n",
      "Digite a temperatura de Novembro em ºC: 30\n",
      "Digite a temperatura de Dezembro em ºC: 27\n",
      "\n",
      "A média das temperaturas foi de: 36.75ºC\n",
      "Meses com temperaturas acima da média: \n",
      "4 - Abril com 42.00ºC\n",
      "6 - Junho com 53.00ºC\n",
      "7 - Julho com 47.00ºC\n",
      "8 - Agosto com 42.00ºC\n",
      "9 - Setembro com 38.00ºC\n"
     ]
    }
   ],
   "source": [
    "#Faça um programa que receba a temperatura média de cada mês do ano\n",
    "#e armazene-as em uma lista. Após isto, calcule a média anual das\n",
    "#temperaturas e mostre todas as temperaturas acima da média anual, e\n",
    "#em que mês elas ocorreram (mostrar o mês por extenso: 1 – Janeiro, 2 – fevereiro, . . . ).\n",
    "\n",
    "meses = ['Janeiro', 'Fevereiro', 'Março', 'Abril', 'Maio', 'Junho', 'Julho', 'Agosto', 'Setembro', 'Outubro', 'Novembro', 'Dezembro']\n",
    "temperatura = []\n",
    "\n",
    "for i in range(12):\n",
    "    temperatura.append(\n",
    "        float(input('Digite a temperatura de {} em ºC: '.format(meses[i])))\n",
    ")\n",
    "\n",
    "media = sum(temperatura) / 12\n",
    "print(f\"\\nA média das temperaturas foi de: {media:.2f}ºC\")\n",
    "print(\"Meses com temperaturas acima da média: \")\n",
    "for i in range(12):\n",
    "    if temperatura[i] > media:\n",
    "        print(f\"{i+1} - {meses[i].capitalize()} com {temperatura[i]:.2f}ºC\")"
   ]
  },
  {
   "cell_type": "code",
   "execution_count": null,
   "id": "c1d32ee0",
   "metadata": {},
   "outputs": [],
   "source": []
  }
 ],
 "metadata": {
  "kernelspec": {
   "display_name": "Python 3 (ipykernel)",
   "language": "python",
   "name": "python3"
  },
  "language_info": {
   "codemirror_mode": {
    "name": "ipython",
    "version": 3
   },
   "file_extension": ".py",
   "mimetype": "text/x-python",
   "name": "python",
   "nbconvert_exporter": "python",
   "pygments_lexer": "ipython3",
   "version": "3.9.12"
  }
 },
 "nbformat": 4,
 "nbformat_minor": 5
}
