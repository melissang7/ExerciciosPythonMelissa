{
 "cells": [
  {
   "cell_type": "markdown",
   "metadata": {
    "colab_type": "text",
    "id": "view-in-github"
   },
   "source": [
    "<a href=\"https://colab.research.google.com/github/hiramaralIA/M2_CETAM_IA_AULAS_PYTHON-AVANCADO/blob/main/hcca_Pandas_03.ipynb\" target=\"_parent\"><img src=\"https://colab.research.google.com/assets/colab-badge.svg\" alt=\"Open In Colab\"/></a>"
   ]
  },
  {
   "cell_type": "markdown",
   "metadata": {
    "id": "yt5eu1CtoEnP"
   },
   "source": [
    "# DataFrame\n",
    "\n",
    "\n",
    "## Resumo\n",
    "\n",
    "É como se fosse uma tabela.\n",
    "\n",
    "- As colunas funcionam \"como chaves de dicionário\"\n",
    "- As linhas funcionam \"como listas\"\n",
    "\n",
    "## Funcionamento"
   ]
  },
  {
   "cell_type": "raw",
   "metadata": {
    "id": "5iC2NG6eoEnS"
   },
   "source": [
    "Temos um dataframe chamado vendas_df\n",
    "\n",
    "vendas_df['coluna_x'] -> uma lista com os valores da coluna_x (em formato dataframe, é um dataframe com 1 coluna só)\n",
    "vendas_df[0] -> NÃO FUNCIONA ASSIM PARA DATAFRAMES\n",
    "vendas_df[:3] -> pega até a linha de índice 3 do dataframe\n",
    "vendas_df[['coluna_x', 'coluna_y', 'coluna_z']] -> cria um novo dataframe com as colunas coluna_x, coluna_y e coluna_z\n",
    "vendas_df['coluna_x'][0] -> pega o itemd a 1ª linha da coluna coluna_x"
   ]
  },
  {
   "cell_type": "markdown",
   "metadata": {
    "id": "xewKoQOeoEnT"
   },
   "source": [
    "- Vamos ler um arquivo real, com a Base de Dados de Vendas da Empresa \"Contoso\""
   ]
  },
  {
   "cell_type": "code",
   "execution_count": 2,
   "metadata": {
    "id": "a_Z7WFD7oEnT",
    "scrolled": true
   },
   "outputs": [
    {
     "data": {
      "text/html": [
       "<div>\n",
       "<style scoped>\n",
       "    .dataframe tbody tr th:only-of-type {\n",
       "        vertical-align: middle;\n",
       "    }\n",
       "\n",
       "    .dataframe tbody tr th {\n",
       "        vertical-align: top;\n",
       "    }\n",
       "\n",
       "    .dataframe thead th {\n",
       "        text-align: right;\n",
       "    }\n",
       "</style>\n",
       "<table border=\"1\" class=\"dataframe\">\n",
       "  <thead>\n",
       "    <tr style=\"text-align: right;\">\n",
       "      <th></th>\n",
       "      <th>Numero da Venda</th>\n",
       "      <th>Data da Venda</th>\n",
       "      <th>Data do Envio</th>\n",
       "      <th>ID Canal</th>\n",
       "      <th>ID Loja</th>\n",
       "      <th>ID Produto</th>\n",
       "      <th>ID Promocao</th>\n",
       "      <th>ID Cliente</th>\n",
       "      <th>Quantidade Vendida</th>\n",
       "      <th>Quantidade Devolvida</th>\n",
       "    </tr>\n",
       "  </thead>\n",
       "  <tbody>\n",
       "    <tr>\n",
       "      <th>0</th>\n",
       "      <td>1</td>\n",
       "      <td>01/01/2017</td>\n",
       "      <td>02/01/2017</td>\n",
       "      <td>1</td>\n",
       "      <td>86</td>\n",
       "      <td>981</td>\n",
       "      <td>2</td>\n",
       "      <td>6825</td>\n",
       "      <td>9</td>\n",
       "      <td>1</td>\n",
       "    </tr>\n",
       "    <tr>\n",
       "      <th>1</th>\n",
       "      <td>2</td>\n",
       "      <td>01/01/2017</td>\n",
       "      <td>06/01/2017</td>\n",
       "      <td>5</td>\n",
       "      <td>308</td>\n",
       "      <td>1586</td>\n",
       "      <td>2</td>\n",
       "      <td>18469</td>\n",
       "      <td>9</td>\n",
       "      <td>1</td>\n",
       "    </tr>\n",
       "    <tr>\n",
       "      <th>2</th>\n",
       "      <td>3</td>\n",
       "      <td>01/01/2017</td>\n",
       "      <td>01/01/2017</td>\n",
       "      <td>0</td>\n",
       "      <td>294</td>\n",
       "      <td>1444</td>\n",
       "      <td>5</td>\n",
       "      <td>19730</td>\n",
       "      <td>13</td>\n",
       "      <td>1</td>\n",
       "    </tr>\n",
       "    <tr>\n",
       "      <th>3</th>\n",
       "      <td>4</td>\n",
       "      <td>01/01/2017</td>\n",
       "      <td>01/01/2017</td>\n",
       "      <td>0</td>\n",
       "      <td>251</td>\n",
       "      <td>1468</td>\n",
       "      <td>5</td>\n",
       "      <td>29326</td>\n",
       "      <td>6</td>\n",
       "      <td>1</td>\n",
       "    </tr>\n",
       "    <tr>\n",
       "      <th>4</th>\n",
       "      <td>5</td>\n",
       "      <td>01/01/2017</td>\n",
       "      <td>07/01/2017</td>\n",
       "      <td>6</td>\n",
       "      <td>94</td>\n",
       "      <td>1106</td>\n",
       "      <td>2</td>\n",
       "      <td>22617</td>\n",
       "      <td>4</td>\n",
       "      <td>1</td>\n",
       "    </tr>\n",
       "    <tr>\n",
       "      <th>...</th>\n",
       "      <td>...</td>\n",
       "      <td>...</td>\n",
       "      <td>...</td>\n",
       "      <td>...</td>\n",
       "      <td>...</td>\n",
       "      <td>...</td>\n",
       "      <td>...</td>\n",
       "      <td>...</td>\n",
       "      <td>...</td>\n",
       "      <td>...</td>\n",
       "    </tr>\n",
       "    <tr>\n",
       "      <th>980637</th>\n",
       "      <td>980638</td>\n",
       "      <td>31/12/2017</td>\n",
       "      <td>31/12/2017</td>\n",
       "      <td>0</td>\n",
       "      <td>194</td>\n",
       "      <td>2490</td>\n",
       "      <td>4</td>\n",
       "      <td>10353</td>\n",
       "      <td>120</td>\n",
       "      <td>0</td>\n",
       "    </tr>\n",
       "    <tr>\n",
       "      <th>980638</th>\n",
       "      <td>980639</td>\n",
       "      <td>31/12/2017</td>\n",
       "      <td>06/01/2018</td>\n",
       "      <td>6</td>\n",
       "      <td>32</td>\n",
       "      <td>2488</td>\n",
       "      <td>4</td>\n",
       "      <td>31750</td>\n",
       "      <td>120</td>\n",
       "      <td>0</td>\n",
       "    </tr>\n",
       "    <tr>\n",
       "      <th>980639</th>\n",
       "      <td>980640</td>\n",
       "      <td>31/12/2017</td>\n",
       "      <td>03/01/2018</td>\n",
       "      <td>3</td>\n",
       "      <td>210</td>\n",
       "      <td>2511</td>\n",
       "      <td>10</td>\n",
       "      <td>12003</td>\n",
       "      <td>80</td>\n",
       "      <td>0</td>\n",
       "    </tr>\n",
       "    <tr>\n",
       "      <th>980640</th>\n",
       "      <td>980641</td>\n",
       "      <td>31/12/2017</td>\n",
       "      <td>31/12/2017</td>\n",
       "      <td>0</td>\n",
       "      <td>53</td>\n",
       "      <td>436</td>\n",
       "      <td>4</td>\n",
       "      <td>25550</td>\n",
       "      <td>39</td>\n",
       "      <td>0</td>\n",
       "    </tr>\n",
       "    <tr>\n",
       "      <th>980641</th>\n",
       "      <td>980642</td>\n",
       "      <td>31/12/2017</td>\n",
       "      <td>31/12/2017</td>\n",
       "      <td>0</td>\n",
       "      <td>309</td>\n",
       "      <td>2510</td>\n",
       "      <td>10</td>\n",
       "      <td>28707</td>\n",
       "      <td>80</td>\n",
       "      <td>0</td>\n",
       "    </tr>\n",
       "  </tbody>\n",
       "</table>\n",
       "<p>980642 rows × 10 columns</p>\n",
       "</div>"
      ],
      "text/plain": [
       "        Numero da Venda Data da Venda Data do Envio  ID Canal  ID Loja  \\\n",
       "0                     1    01/01/2017    02/01/2017         1       86   \n",
       "1                     2    01/01/2017    06/01/2017         5      308   \n",
       "2                     3    01/01/2017    01/01/2017         0      294   \n",
       "3                     4    01/01/2017    01/01/2017         0      251   \n",
       "4                     5    01/01/2017    07/01/2017         6       94   \n",
       "...                 ...           ...           ...       ...      ...   \n",
       "980637           980638    31/12/2017    31/12/2017         0      194   \n",
       "980638           980639    31/12/2017    06/01/2018         6       32   \n",
       "980639           980640    31/12/2017    03/01/2018         3      210   \n",
       "980640           980641    31/12/2017    31/12/2017         0       53   \n",
       "980641           980642    31/12/2017    31/12/2017         0      309   \n",
       "\n",
       "        ID Produto  ID Promocao  ID Cliente  Quantidade Vendida  \\\n",
       "0              981            2        6825                   9   \n",
       "1             1586            2       18469                   9   \n",
       "2             1444            5       19730                  13   \n",
       "3             1468            5       29326                   6   \n",
       "4             1106            2       22617                   4   \n",
       "...            ...          ...         ...                 ...   \n",
       "980637        2490            4       10353                 120   \n",
       "980638        2488            4       31750                 120   \n",
       "980639        2511           10       12003                  80   \n",
       "980640         436            4       25550                  39   \n",
       "980641        2510           10       28707                  80   \n",
       "\n",
       "        Quantidade Devolvida  \n",
       "0                          1  \n",
       "1                          1  \n",
       "2                          1  \n",
       "3                          1  \n",
       "4                          1  \n",
       "...                      ...  \n",
       "980637                     0  \n",
       "980638                     0  \n",
       "980639                     0  \n",
       "980640                     0  \n",
       "980641                     0  \n",
       "\n",
       "[980642 rows x 10 columns]"
      ]
     },
     "execution_count": 2,
     "metadata": {},
     "output_type": "execute_result"
    }
   ],
   "source": [
    "import pandas as pd\n",
    "vendas_df = pd.read_csv(r'Contoso - Vendas - 2017.csv', sep =';')\n",
    "vendas_df"
   ]
  },
  {
   "cell_type": "code",
   "execution_count": 4,
   "metadata": {},
   "outputs": [
    {
     "data": {
      "text/plain": [
       "22617"
      ]
     },
     "execution_count": 4,
     "metadata": {},
     "output_type": "execute_result"
    }
   ],
   "source": [
    "import pandas as pd\n",
    "vendas_df = pd.read_csv(r'Contoso - Vendas - 2017.csv', sep =';')\n",
    "vendas_df['ID Cliente'][4]"
   ]
  },
  {
   "cell_type": "code",
   "execution_count": 11,
   "metadata": {},
   "outputs": [
    {
     "data": {
      "text/html": [
       "<div>\n",
       "<style scoped>\n",
       "    .dataframe tbody tr th:only-of-type {\n",
       "        vertical-align: middle;\n",
       "    }\n",
       "\n",
       "    .dataframe tbody tr th {\n",
       "        vertical-align: top;\n",
       "    }\n",
       "\n",
       "    .dataframe thead th {\n",
       "        text-align: right;\n",
       "    }\n",
       "</style>\n",
       "<table border=\"1\" class=\"dataframe\">\n",
       "  <thead>\n",
       "    <tr style=\"text-align: right;\">\n",
       "      <th></th>\n",
       "      <th>Nome da Marca</th>\n",
       "      <th>Custo Unitario</th>\n",
       "      <th>Categoria</th>\n",
       "    </tr>\n",
       "  </thead>\n",
       "  <tbody>\n",
       "    <tr>\n",
       "      <th>0</th>\n",
       "      <td>Contoso</td>\n",
       "      <td>10,69</td>\n",
       "      <td>Acessório para Computador</td>\n",
       "    </tr>\n",
       "    <tr>\n",
       "      <th>1</th>\n",
       "      <td>Contoso</td>\n",
       "      <td>6,63</td>\n",
       "      <td>Acessório para Computador</td>\n",
       "    </tr>\n",
       "    <tr>\n",
       "      <th>2</th>\n",
       "      <td>Contoso</td>\n",
       "      <td>6,63</td>\n",
       "      <td>Acessório para Computador</td>\n",
       "    </tr>\n",
       "    <tr>\n",
       "      <th>3</th>\n",
       "      <td>Contoso</td>\n",
       "      <td>6,63</td>\n",
       "      <td>Acessório para Computador</td>\n",
       "    </tr>\n",
       "    <tr>\n",
       "      <th>4</th>\n",
       "      <td>Contoso</td>\n",
       "      <td>6,63</td>\n",
       "      <td>Acessório para Computador</td>\n",
       "    </tr>\n",
       "    <tr>\n",
       "      <th>...</th>\n",
       "      <td>...</td>\n",
       "      <td>...</td>\n",
       "      <td>...</td>\n",
       "    </tr>\n",
       "    <tr>\n",
       "      <th>1685</th>\n",
       "      <td>Southridge Video</td>\n",
       "      <td>82,77</td>\n",
       "      <td>Filme DVD</td>\n",
       "    </tr>\n",
       "    <tr>\n",
       "      <th>1686</th>\n",
       "      <td>Southridge Video</td>\n",
       "      <td>73,57</td>\n",
       "      <td>Filme DVD</td>\n",
       "    </tr>\n",
       "    <tr>\n",
       "      <th>1687</th>\n",
       "      <td>Southridge Video</td>\n",
       "      <td>82,77</td>\n",
       "      <td>Filme DVD</td>\n",
       "    </tr>\n",
       "    <tr>\n",
       "      <th>1688</th>\n",
       "      <td>Southridge Video</td>\n",
       "      <td>73,57</td>\n",
       "      <td>Filme DVD</td>\n",
       "    </tr>\n",
       "    <tr>\n",
       "      <th>1689</th>\n",
       "      <td>Southridge Video</td>\n",
       "      <td>82,77</td>\n",
       "      <td>Filme DVD</td>\n",
       "    </tr>\n",
       "  </tbody>\n",
       "</table>\n",
       "<p>1690 rows × 3 columns</p>\n",
       "</div>"
      ],
      "text/plain": [
       "         Nome da Marca Custo Unitario                  Categoria\n",
       "0              Contoso          10,69  Acessório para Computador\n",
       "1              Contoso           6,63  Acessório para Computador\n",
       "2              Contoso           6,63  Acessório para Computador\n",
       "3              Contoso           6,63  Acessório para Computador\n",
       "4              Contoso           6,63  Acessório para Computador\n",
       "...                ...            ...                        ...\n",
       "1685  Southridge Video          82,77                  Filme DVD\n",
       "1686  Southridge Video          73,57                  Filme DVD\n",
       "1687  Southridge Video          82,77                  Filme DVD\n",
       "1688  Southridge Video          73,57                  Filme DVD\n",
       "1689  Southridge Video          82,77                  Filme DVD\n",
       "\n",
       "[1690 rows x 3 columns]"
      ]
     },
     "execution_count": 11,
     "metadata": {},
     "output_type": "execute_result"
    }
   ],
   "source": [
    "import pandas as pd\n",
    "vendas_df = pd.read_csv('Contoso - Cadastro Produtos.csv', sep = ';')\n",
    "vendas_df[['Nome da Marca', 'Custo Unitario', 'Categoria']]"
   ]
  },
  {
   "cell_type": "markdown",
   "metadata": {
    "id": "E_vRArPNoEnU"
   },
   "source": [
    "## Aplicação"
   ]
  },
  {
   "cell_type": "markdown",
   "metadata": {
    "id": "UM6T38RfoEnV"
   },
   "source": [
    "- O 1º passo de toda Análise de Dados é você entender o que existe na sua base de dados\n",
    "\n",
    "Usaremos o .info() para isso"
   ]
  },
  {
   "cell_type": "code",
   "execution_count": 6,
   "metadata": {
    "id": "9pa6qBjZoEnV"
   },
   "outputs": [
    {
     "name": "stdout",
     "output_type": "stream",
     "text": [
      "<class 'pandas.core.frame.DataFrame'>\n",
      "RangeIndex: 1690 entries, 0 to 1689\n",
      "Data columns (total 6 columns):\n",
      " #   Column          Non-Null Count  Dtype \n",
      "---  ------          --------------  ----- \n",
      " 0   Nome da Marca   1690 non-null   object\n",
      " 1   Tipo            1690 non-null   object\n",
      " 2   Custo Unitario  1690 non-null   object\n",
      " 3   Preco Unitario  1690 non-null   object\n",
      " 4   ID Produto      1690 non-null   int64 \n",
      " 5   Categoria       1690 non-null   object\n",
      "dtypes: int64(1), object(5)\n",
      "memory usage: 79.3+ KB\n"
     ]
    }
   ],
   "source": [
    "vendas_df.info()"
   ]
  },
  {
   "cell_type": "markdown",
   "metadata": {
    "id": "V9nBvclLoEnW"
   },
   "source": [
    "- Vamos criar então agora uma lista de Clientes"
   ]
  },
  {
   "cell_type": "code",
   "execution_count": null,
   "metadata": {
    "id": "PXkfYSOMoEnW"
   },
   "outputs": [],
   "source": []
  },
  {
   "cell_type": "markdown",
   "metadata": {
    "id": "4kInafQ2oEnW"
   },
   "source": [
    "- Vamos criar agora uma lista com os produtos e as quantidades de vendas dele, caso a gente queira analisar só os produtos (independente de data ou de cliente)"
   ]
  },
  {
   "cell_type": "code",
   "execution_count": null,
   "metadata": {
    "id": "URSU9UjFoEnX"
   },
   "outputs": [],
   "source": []
  }
 ],
 "metadata": {
  "colab": {
   "include_colab_link": true,
   "name": "Pandas 03.ipynb",
   "provenance": []
  },
  "kernelspec": {
   "display_name": "Python 3 (ipykernel)",
   "language": "python",
   "name": "python3"
  },
  "language_info": {
   "codemirror_mode": {
    "name": "ipython",
    "version": 3
   },
   "file_extension": ".py",
   "mimetype": "text/x-python",
   "name": "python",
   "nbconvert_exporter": "python",
   "pygments_lexer": "ipython3",
   "version": "3.9.7"
  }
 },
 "nbformat": 4,
 "nbformat_minor": 1
}
